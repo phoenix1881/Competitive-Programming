{
  "cells": [
    {
      "cell_type": "markdown",
      "metadata": {
        "id": "4J8hFg11U0P_"
      },
      "source": [
        "# Assignment: Neural Networks for Music Classification\n",
        "\n",
        "*Fraida Fund*"
      ]
    },
    {
      "cell_type": "markdown",
      "metadata": {
        "id": "XU7fR1cSU0QA"
      },
      "source": [
        "**TODO**: Edit this cell to fill in your NYU Net ID and your name:\n",
        "\n",
        "-   **Net ID**: tc4263\n",
        "-   **Name**: Tejdeep Chippa"
      ]
    },
    {
      "cell_type": "markdown",
      "metadata": {
        "id": "Bqzntl0_U0QA"
      },
      "source": [
        "⚠️ **Note**: This experiment is designed to run on a Google Colab **GPU** runtime. You should use a GPU runtime on Colab to work on this assignment. You should not run it outside of Google Colab. However, if you have been using Colab GPU runtimes a lot, you may be alerted that you have exhausted the “free” compute units allocated to you by Google Colab. We will have some limited availability of GPU time during the last week before the deadline, for students who have no compute units available."
      ]
    },
    {
      "cell_type": "markdown",
      "metadata": {
        "id": "C1j9lOwLU0QB"
      },
      "source": [
        "In this assignment, we will look at an audio classification problem. Given a sample of music, we want to determine which instrument (e.g. trumpet, violin, piano) is playing.\n",
        "\n",
        "*This assignment is closely based on one by Sundeep Rangan, from his [IntroML GitHub repo](https://github.com/sdrangan/introml/).*"
      ]
    },
    {
      "cell_type": "code",
      "execution_count": 1,
      "metadata": {
        "id": "JBl5yYj2U0QB"
      },
      "outputs": [],
      "source": [
        "import tensorflow as tf\n",
        "import numpy as np\n",
        "import matplotlib\n",
        "import matplotlib.pyplot as plt\n",
        "import seaborn as sns\n",
        "import time\n",
        "%matplotlib inline"
      ]
    },
    {
      "cell_type": "markdown",
      "metadata": {
        "id": "I6A8gep3U0QB"
      },
      "source": [
        "## Audio Feature Extraction with Librosa\n",
        "\n",
        "The key to audio classification is to extract the correct features. The `librosa` package in python has a rich set of methods for extracting the features of audio samples commonly used in machine learning tasks, such as speech recognition and sound classification."
      ]
    },
    {
      "cell_type": "code",
      "execution_count": 2,
      "metadata": {
        "id": "jO2lppX9U0QB"
      },
      "outputs": [],
      "source": [
        "import librosa\n",
        "import librosa.display\n",
        "import librosa.feature"
      ]
    },
    {
      "cell_type": "markdown",
      "metadata": {
        "id": "O6NDzn2pU0QB"
      },
      "source": [
        "In this lab, we will use a set of music samples from the website:\n",
        "\n",
        "<http://theremin.music.uiowa.edu>\n",
        "\n",
        "This website has a great set of samples for audio processing.\n",
        "\n",
        "We will use the `wget` command to retrieve one file to our Google Colab storage area. (We can run `wget` and many other basic Linux commands in Colab by prefixing them with a `!` or `%`.)"
      ]
    },
    {
      "cell_type": "code",
      "execution_count": 3,
      "metadata": {
        "colab": {
          "base_uri": "https://localhost:8080/"
        },
        "id": "iNnfok9nU0QB",
        "outputId": "e6bd2ddc-50a8-453e-f281-0a48a8d0677c"
      },
      "outputs": [
        {
          "output_type": "stream",
          "name": "stdout",
          "text": [
            "--2024-12-10 20:59:40--  http://theremin.music.uiowa.edu/sound%20files/MIS/Woodwinds/sopranosaxophone/SopSax.Vib.pp.C6Eb6.aiff\n",
            "Resolving theremin.music.uiowa.edu (theremin.music.uiowa.edu)... 128.255.102.97, 2620:0:e50:680c::4e\n",
            "Connecting to theremin.music.uiowa.edu (theremin.music.uiowa.edu)|128.255.102.97|:80... connected.\n",
            "HTTP request sent, awaiting response... 301 Moved Permanently\n",
            "Location: https://theremin.music.uiowa.edu/sound%20files/MIS/Woodwinds/sopranosaxophone/SopSax.Vib.pp.C6Eb6.aiff [following]\n",
            "--2024-12-10 20:59:40--  https://theremin.music.uiowa.edu/sound%20files/MIS/Woodwinds/sopranosaxophone/SopSax.Vib.pp.C6Eb6.aiff\n",
            "Connecting to theremin.music.uiowa.edu (theremin.music.uiowa.edu)|128.255.102.97|:443... connected.\n",
            "HTTP request sent, awaiting response... 200 OK\n",
            "Length: 1418242 (1.4M) [audio/aiff]\n",
            "Saving to: ‘SopSax.Vib.pp.C6Eb6.aiff’\n",
            "\n",
            "SopSax.Vib.pp.C6Eb6 100%[===================>]   1.35M  3.09MB/s    in 0.4s    \n",
            "\n",
            "2024-12-10 20:59:41 (3.09 MB/s) - ‘SopSax.Vib.pp.C6Eb6.aiff’ saved [1418242/1418242]\n",
            "\n"
          ]
        }
      ],
      "source": [
        "!wget \"http://theremin.music.uiowa.edu/sound files/MIS/Woodwinds/sopranosaxophone/SopSax.Vib.pp.C6Eb6.aiff\""
      ]
    },
    {
      "cell_type": "markdown",
      "metadata": {
        "id": "azPpUdrkU0QC"
      },
      "source": [
        "Now, if you click on the small folder icon on the far left of the Colab interface, you can see the files in your Colab storage. You should see the “SopSax.Vib.pp.C6Eb6.aiff” file appear there."
      ]
    },
    {
      "cell_type": "markdown",
      "metadata": {
        "id": "Am-eOAztU0QC"
      },
      "source": [
        "In order to listen to this file, we’ll first convert it into the `wav` format. Again, we’ll use a magic command to run a basic command-line utility: `ffmpeg`, a powerful tool for working with audio and video files."
      ]
    },
    {
      "cell_type": "code",
      "execution_count": 4,
      "metadata": {
        "colab": {
          "base_uri": "https://localhost:8080/"
        },
        "id": "Krw_dD9tU0QC",
        "outputId": "0a4acaa8-d11f-4c65-8ccc-27864f747cc5"
      },
      "outputs": [
        {
          "output_type": "stream",
          "name": "stdout",
          "text": [
            "ffmpeg version 4.4.2-0ubuntu0.22.04.1 Copyright (c) 2000-2021 the FFmpeg developers\n",
            "  built with gcc 11 (Ubuntu 11.2.0-19ubuntu1)\n",
            "  configuration: --prefix=/usr --extra-version=0ubuntu0.22.04.1 --toolchain=hardened --libdir=/usr/lib/x86_64-linux-gnu --incdir=/usr/include/x86_64-linux-gnu --arch=amd64 --enable-gpl --disable-stripping --enable-gnutls --enable-ladspa --enable-libaom --enable-libass --enable-libbluray --enable-libbs2b --enable-libcaca --enable-libcdio --enable-libcodec2 --enable-libdav1d --enable-libflite --enable-libfontconfig --enable-libfreetype --enable-libfribidi --enable-libgme --enable-libgsm --enable-libjack --enable-libmp3lame --enable-libmysofa --enable-libopenjpeg --enable-libopenmpt --enable-libopus --enable-libpulse --enable-librabbitmq --enable-librubberband --enable-libshine --enable-libsnappy --enable-libsoxr --enable-libspeex --enable-libsrt --enable-libssh --enable-libtheora --enable-libtwolame --enable-libvidstab --enable-libvorbis --enable-libvpx --enable-libwebp --enable-libx265 --enable-libxml2 --enable-libxvid --enable-libzimg --enable-libzmq --enable-libzvbi --enable-lv2 --enable-omx --enable-openal --enable-opencl --enable-opengl --enable-sdl2 --enable-pocketsphinx --enable-librsvg --enable-libmfx --enable-libdc1394 --enable-libdrm --enable-libiec61883 --enable-chromaprint --enable-frei0r --enable-libx264 --enable-shared\n",
            "  libavutil      56. 70.100 / 56. 70.100\n",
            "  libavcodec     58.134.100 / 58.134.100\n",
            "  libavformat    58. 76.100 / 58. 76.100\n",
            "  libavdevice    58. 13.100 / 58. 13.100\n",
            "  libavfilter     7.110.100 /  7.110.100\n",
            "  libswscale      5.  9.100 /  5.  9.100\n",
            "  libswresample   3.  9.100 /  3.  9.100\n",
            "  libpostproc    55.  9.100 / 55.  9.100\n",
            "\u001b[0;33mGuessed Channel Layout for Input Stream #0.0 : mono\n",
            "\u001b[0mInput #0, aiff, from 'SopSax.Vib.pp.C6Eb6.aiff':\n",
            "  Duration: 00:00:16.07, start: 0.000000, bitrate: 705 kb/s\n",
            "  Stream #0:0: Audio: pcm_s16be, 44100 Hz, mono, s16, 705 kb/s\n",
            "Stream mapping:\n",
            "  Stream #0:0 -> #0:0 (pcm_s16be (native) -> pcm_s16le (native))\n",
            "Press [q] to stop, [?] for help\n",
            "Output #0, wav, to 'SopSax.Vib.pp.C6Eb6.wav':\n",
            "  Metadata:\n",
            "    ISFT            : Lavf58.76.100\n",
            "  Stream #0:0: Audio: pcm_s16le ([1][0][0][0] / 0x0001), 44100 Hz, mono, s16, 705 kb/s\n",
            "    Metadata:\n",
            "      encoder         : Lavc58.134.100 pcm_s16le\n",
            "size=    1385kB time=00:00:16.06 bitrate= 705.9kbits/s speed= 879x    \n",
            "video:0kB audio:1384kB subtitle:0kB other streams:0kB global headers:0kB muxing overhead: 0.005502%\n"
          ]
        }
      ],
      "source": [
        "aiff_file = 'SopSax.Vib.pp.C6Eb6.aiff'\n",
        "wav_file = 'SopSax.Vib.pp.C6Eb6.wav'\n",
        "\n",
        "!ffmpeg -y -i $aiff_file $wav_file"
      ]
    },
    {
      "cell_type": "markdown",
      "metadata": {
        "id": "HVvej28PU0QC"
      },
      "source": [
        "Now, we can play the file directly from Colab. If you press the ▶️ button, you will hear a soprano saxaphone (with vibrato) playing four notes (C, C#, D, Eb)."
      ]
    },
    {
      "cell_type": "code",
      "execution_count": null,
      "metadata": {
        "id": "o_F-thUaU0QC"
      },
      "outputs": [],
      "source": [
        "import IPython.display as ipd\n",
        "ipd.Audio(wav_file)"
      ]
    },
    {
      "cell_type": "markdown",
      "metadata": {
        "id": "G8QLlmLMU0QC"
      },
      "source": [
        "Next, use `librosa` command `librosa.load` to read the audio file with filename `audio_file` and get the samples `y` and sample rate `sr`."
      ]
    },
    {
      "cell_type": "code",
      "execution_count": null,
      "metadata": {
        "id": "6yMzl3ipU0QC"
      },
      "outputs": [],
      "source": [
        "y, sr = librosa.load(aiff_file)"
      ]
    },
    {
      "cell_type": "markdown",
      "metadata": {
        "id": "rIExJ2x_U0QC"
      },
      "source": [
        "Feature engineering from audio files is an entire subject in its own right. A commonly used set of features are called the Mel Frequency Cepstral Coefficients (MFCCs). These are derived from the so-called mel spectrogram, which is something like a regular spectrogram, but the power and frequency are represented in log scale, which more naturally aligns with human perceptual processing.\n",
        "\n",
        "You can run the code below to display the mel spectrogram from the audio sample.\n",
        "\n",
        "You can easily see the four notes played in the audio track. You also see the 'harmonics' of each notes, which are other tones at integer multiples of the fundamental frequency of each note."
      ]
    },
    {
      "cell_type": "code",
      "execution_count": null,
      "metadata": {
        "id": "F3-Fmn05U0QC"
      },
      "outputs": [],
      "source": [
        "S = librosa.feature.melspectrogram(y=y, sr=sr, n_mels=128, fmax=8000)\n",
        "librosa.display.specshow(librosa.amplitude_to_db(S),\n",
        "                         y_axis='mel', fmax=8000, x_axis='time')\n",
        "plt.colorbar(format='%+2.0f dB')\n",
        "plt.title('Mel spectrogram')\n",
        "plt.tight_layout()"
      ]
    },
    {
      "cell_type": "markdown",
      "metadata": {
        "id": "C_FJl2qUU0QC"
      },
      "source": [
        "## Downloading the Data\n",
        "\n",
        "Using the MFCC features described above, [Prof. Juan Bello](http://steinhardt.nyu.edu/faculty/Juan_Pablo_Bello) at NYU Steinhardt and his former PhD student Eric Humphrey have created a complete data set that can used for instrument classification. Essentially, they collected a number of data files from the website above. For each audio file, the segmented the track into notes and then extracted 120 MFCCs for each note. The goal is to recognize the instrument from the 120 MFCCs. The process of feature extraction is quite involved. So, we will just use their processed data."
      ]
    },
    {
      "cell_type": "markdown",
      "metadata": {
        "id": "I8sqBATYU0QC"
      },
      "source": [
        "To retrieve their data, visit\n",
        "\n",
        "<https://github.com/marl/dl4mir-tutorial/tree/master>\n",
        "\n",
        "and note the password listed on that page. Click on the link for “Instrument Dataset”, enter the password, click on `instrument_dataset` to open the folder, and download it. (You can “direct download” straight from this site, you don’t need a Dropbox account.) Depending on your laptop OS and on how you download the data, you may need to “unzip” or otherwise extract the four `.npy` files from an archive.\n",
        "\n",
        "Then, upload the files to your Google Colab storage: click on the folder icon on the left to see your storage, if it isn’t already open, and then click on “Upload”.\n",
        "\n",
        "🛑 Wait until *all* uploads have completed and the orange “circles” indicating uploads in progress are *gone*. (The training data especially will take some time to upload.) 🛑"
      ]
    },
    {
      "cell_type": "markdown",
      "metadata": {
        "id": "BC45gXw9U0QC"
      },
      "source": [
        "Then, load the files with:"
      ]
    },
    {
      "cell_type": "code",
      "execution_count": null,
      "metadata": {
        "id": "c4xRtgmJU0QC"
      },
      "outputs": [],
      "source": [
        "Xtr = np.load('uiowa_train_data.npy')\n",
        "ytr = np.load('uiowa_train_labels.npy')\n",
        "Xts = np.load('uiowa_test_data.npy')\n",
        "yts = np.load('uiowa_test_labels.npy')"
      ]
    },
    {
      "cell_type": "code",
      "execution_count": null,
      "metadata": {
        "id": "F6DNaPN3U0QC"
      },
      "outputs": [],
      "source": [
        "# shuffle the training set\n",
        "# (when loaded in, samples are ordered by class)\n",
        "p = np.random.permutation(Xtr.shape[0])\n",
        "Xtr = Xtr[p,:]\n",
        "ytr = ytr[p]"
      ]
    },
    {
      "cell_type": "markdown",
      "metadata": {
        "id": "1Vl93ZkuU0QC"
      },
      "source": [
        "Examine the data you have just loaded in:\n",
        "\n",
        "-   How many training samples are there?\n",
        "-   How many test samples are there?\n",
        "-   What is the number of features for each sample?\n",
        "-   How many classes (i.e. instruments) are there?\n",
        "\n",
        "Write some code to find these values and print them."
      ]
    },
    {
      "cell_type": "code",
      "execution_count": null,
      "metadata": {
        "id": "lEHHN7otU0QC"
      },
      "outputs": [],
      "source": [
        "# TODO -  get basic details of the data\n",
        "# compute these values from the data, don't hard-code them\n",
        "n_tr    = Xtr.shape[0]\n",
        "n_ts    = Xts.shape[0]\n",
        "n_feat  = Xtr.shape[1]\n",
        "n_class = len(np.unique(yts))"
      ]
    },
    {
      "cell_type": "code",
      "execution_count": null,
      "metadata": {
        "id": "PQ4tPguMU0QD"
      },
      "outputs": [],
      "source": [
        "# now print those details\n",
        "print(\"Num training= %d\" % n_tr)\n",
        "print(\"Num test=     %d\" % n_ts)\n",
        "print(\"Num features= %d\" % n_feat)\n",
        "print(\"Num classes=  %d\" % n_class)"
      ]
    },
    {
      "cell_type": "markdown",
      "metadata": {
        "id": "daX5v1ISU0QD"
      },
      "source": [
        "Then, standardize the training and test data, `Xtr` and `Xts`, by removing the mean of each feature and scaling to unit variance.\n",
        "\n",
        "You can do this manually, or using `sklearn`'s [StandardScaler](https://scikit-learn.org/stable/modules/generated/sklearn.preprocessing.StandardScaler.html). (For an example showing how to use a `StandardScaler`, you can refer to the notebook on regularization.)\n",
        "\n",
        "Although you will scale both the training and test data, you should make sure that both are scaled according to the mean and variance statistics from the *training data only*.\n",
        "\n",
        "<small>Standardizing the input data can make the gradient descent work better, by making the loss function “easier” to descend.</small>"
      ]
    },
    {
      "cell_type": "code",
      "execution_count": null,
      "metadata": {
        "id": "1nQ1RM2YU0QD"
      },
      "outputs": [],
      "source": [
        "# TODO - Standardize the training and test data\n",
        "from sklearn.preprocessing import StandardScaler\n",
        "scaler = StandardScaler()\n",
        "Xtr_scale = scaler.fit_transform(Xtr)\n",
        "Xts_scale = scaler.transform(Xts)\n"
      ]
    },
    {
      "cell_type": "markdown",
      "metadata": {
        "collapsed": true,
        "id": "uf_nyMq6U0QD"
      },
      "source": [
        "## Building a Neural Network Classifier\n",
        "\n",
        "Following the example in the demos you have seen, clear the keras session. Then, create a neural network `model` with:\n",
        "\n",
        "-   `nh=256` hidden units in a single dense hidden layer\n",
        "-   `sigmoid` activation at hidden units\n",
        "-   select the input and output shapes, and output activation, according to the problem requirements. Use the variables you defined earlier (`n_tr`, `n_ts`, `n_feat`, `n_class`) as applicable, rather than hard-coding numbers.\n",
        "\n",
        "Print the model summary."
      ]
    },
    {
      "cell_type": "code",
      "execution_count": null,
      "metadata": {
        "id": "06qu9b7EU0QD"
      },
      "outputs": [],
      "source": [
        "from tensorflow.keras.models import Model, Sequential\n",
        "from tensorflow.keras.layers import Dense, Activation, Input\n",
        "from tensorflow.keras import optimizers\n",
        "from tensorflow.keras import callbacks\n",
        "import tensorflow.keras.backend as K"
      ]
    },
    {
      "cell_type": "code",
      "execution_count": null,
      "metadata": {
        "id": "DG4tQO8UU0QD"
      },
      "outputs": [],
      "source": [
        "# TODO - construct the model\n",
        "nh = 256\n",
        "# model =  ...\n",
        "# model.add( ...\n",
        ""
      ]
    },
    {
      "cell_type": "code",
      "execution_count": null,
      "metadata": {
        "id": "mGMvCiWFU0QD"
      },
      "outputs": [],
      "source": [
        "# show the model summary\n",
        "model.summary()"
      ]
    },
    {
      "cell_type": "code",
      "execution_count": null,
      "metadata": {
        "id": "Y412aLh0U0QD"
      },
      "outputs": [],
      "source": [
        "# you can also visualize the model with\n",
        "tf.keras.utils.plot_model(model, show_shapes=True)"
      ]
    },
    {
      "cell_type": "markdown",
      "metadata": {
        "id": "bN6e3rz3U0QD"
      },
      "source": [
        "Create an optimizer and compile the model. Select the appropriate loss function for this multi-class classification problem, and use an accuracy metric. For the optimizer, use the Adam optimizer with a learning rate of 0.001"
      ]
    },
    {
      "cell_type": "code",
      "execution_count": null,
      "metadata": {
        "id": "W32TvqMPU0QD"
      },
      "outputs": [],
      "source": [
        "# TODO - create optimizer and compile the model\n",
        "# opt = ...\n",
        "# model.compile(...)"
      ]
    },
    {
      "cell_type": "markdown",
      "metadata": {
        "id": "YKsDplP5U0QD"
      },
      "source": [
        "Fit the model for 10 epochs using the scaled data for both training and validation, and save the training history in \\`hist.\n",
        "\n",
        "Use the `validation_data` option to pass the *test* data. (This is OK because we are not going to use this data as part of the training process, such as for early stopping - we’re just going to compute the accuracy on the data so that we can see how training and test loss changes as the model is trained.)\n",
        "\n",
        "Use a batch size of 128. Your final accuracy should be greater than 99%."
      ]
    },
    {
      "cell_type": "code",
      "execution_count": null,
      "metadata": {
        "id": "bOBDBx0tU0QE"
      },
      "outputs": [],
      "source": [
        "# TODO - fit model and save training history\n",
        "# hist ="
      ]
    },
    {
      "cell_type": "markdown",
      "metadata": {
        "id": "GQVqkABJU0QE"
      },
      "source": [
        "Plot the training and validation accuracy saved in `hist.history` dictionary, on the same plot. This gives one accuracy value per epoch. You should see that the validation accuracy saturates around 99%. After that it may “bounce around” a little due to the noise in the stochastic mini-batch gradient descent.\n",
        "\n",
        "Make sure to label each axis, and each series (training vs. validation/test)."
      ]
    },
    {
      "cell_type": "code",
      "execution_count": null,
      "metadata": {
        "id": "QY-HIaBvU0QE"
      },
      "outputs": [],
      "source": [
        "# TODO - plot the training and validation accuracy in one plot"
      ]
    },
    {
      "cell_type": "markdown",
      "metadata": {
        "id": "ISNCrV5bU0QE"
      },
      "source": [
        "Plot the training and validation loss values saved in the `hist.history` dictionary, on the same plot. You should see that the training loss is steadily decreasing. Use the [`semilogy` plot](https://matplotlib.org/stable/api/_as_gen/matplotlib.pyplot.semilogy.html) so that the y-axis is log scale.\n",
        "\n",
        "Make sure to label each axis, and each series (training vs. validation/test)."
      ]
    },
    {
      "cell_type": "code",
      "execution_count": null,
      "metadata": {
        "id": "Z4NONqU5U0QE"
      },
      "outputs": [],
      "source": [
        "# TODO - plot the training and validation loss in one plot"
      ]
    },
    {
      "cell_type": "markdown",
      "metadata": {
        "id": "fSJoxY56U0QE"
      },
      "source": [
        "## Varying training hyperparameters\n",
        "\n",
        "One challenge in training neural networks is the selection of the **training hyperparameters**, for example:\n",
        "\n",
        "-   learning rate\n",
        "-   learning rate decay schedule\n",
        "-   batch size\n",
        "-   optimizer-specific hyperparameters (for example, the `Adam` optimizer we have been using has `beta_1`, `beta_2`, and `epsilon` hyperparameters)\n",
        "\n",
        "and this challenge is further complicated by the fact that all of these training hyperparameters interact with one another.\n",
        "\n",
        "(Note: **training hyperparameters** are distinct from **model hyperparameters**, like the number of hidden units or layers.)"
      ]
    },
    {
      "cell_type": "markdown",
      "metadata": {
        "id": "MMBq1aT4U0QE"
      },
      "source": [
        "Sometimes, the choice of training hyperparameters affects whether or not the model will find an acceptable set of weights at all - i.e. whether the optimizer converges.\n",
        "\n",
        "It’s more often the case, though, that **for a given model**, we can arrive at a set of weights that have similar performance in many different ways, i.e. with different combinations of optimizer hyperparameters.\n",
        "\n",
        "However, the *training cost* in both **time** and **energy** will be very much affected.\n",
        "\n",
        "In this section, we will explore these further."
      ]
    },
    {
      "cell_type": "markdown",
      "metadata": {
        "id": "HvZDoFiyU0QE"
      },
      "source": [
        "Repeat your model preparation and fitting code, but try four learning rates as shown in the vector `rates`. In each iteration of the loop:\n",
        "\n",
        "-   use `K.clear_session()` to free up memory from models that are no longer in scope. (Note that this does not affect models that are still “in scope”! Students sometimes make the mistake of thinking that this will “reset” the weights of a model that has already been fitted - it will not do that.)\n",
        "-   construct the network\n",
        "-   select the optimizer. Use the Adam optimizer with the learning rate specific to this iteration\n",
        "-   train the model for 20 epochs (make sure you are training a *new* model in each iteration, and not *continuing* the training of a model created already outside the loop)\n",
        "-   save the history of training and validation accuracy and loss for this model"
      ]
    },
    {
      "cell_type": "code",
      "execution_count": null,
      "metadata": {
        "id": "vaxZCWQ7U0QE"
      },
      "outputs": [],
      "source": [
        "rates = [0.1, 0.01,0.001,0.0001]\n",
        "\n",
        "# TODO - iterate over learning rates"
      ]
    },
    {
      "cell_type": "markdown",
      "metadata": {
        "id": "SYMyaR8YU0QE"
      },
      "source": [
        "Plot the training loss vs. the epoch number for all of the learning rates on one graph (use `semilogy` again). You should see that the lower learning rates are more stable, but converge slower, while with a learning rate that is too high, the gradient descent may fail to move towards weights that decrease the loss function.\n",
        "\n",
        "Make sure to label each axis, and each series.\n",
        "\n",
        "**Comment on the results.** Given that all other optimizer hyperparameters are fixed, what is the effect of varying learning rate on the training process?"
      ]
    },
    {
      "cell_type": "code",
      "execution_count": null,
      "metadata": {
        "id": "ihmiywsQU0QE"
      },
      "outputs": [],
      "source": [
        "# TODO - plot showing the training process for different learning rates"
      ]
    },
    {
      "cell_type": "markdown",
      "metadata": {
        "id": "akSAMnxEU0QE"
      },
      "source": [
        "In the previous example, we trained each model for a fixed number of epochs. Now, we’ll explore what happens when we vary the training hyperparameters, but train each model to the same validation **accuracy target**. We will consider:\n",
        "\n",
        "-   how much *time* it takes to achieve that accuracy target (“time to accuracy”)\n",
        "-   how much *energy* it takes to achieve that accuracy target (“energy to accuracy”)\n",
        "-   and the *test accuracy* for the model, given that it is trained to the specified validation accuracy target"
      ]
    },
    {
      "cell_type": "markdown",
      "metadata": {
        "id": "0LLs1tCIU0QE"
      },
      "source": [
        "#### Energy consumption\n",
        "\n",
        "To do this, first we will need some way to measure the energy used to train the model. We will use [Zeus](https://ml.energy/zeus/overview/), a Python package developed by researchers at the University of Michigan, to measure the GPU energy consumption.\n",
        "\n",
        "**Note**: if you are running this experiment in a CPU-only runtime, you should skip this section on energy comsumption. Continue with the ” `TrainToAccuracy` callback” section.\n",
        "\n",
        "First, install the package:"
      ]
    },
    {
      "cell_type": "code",
      "execution_count": null,
      "metadata": {
        "id": "Kw-ET9PWU0QE"
      },
      "outputs": [],
      "source": [
        "!pip install zeus-ml"
      ]
    },
    {
      "cell_type": "markdown",
      "metadata": {
        "id": "4SASvIKcU0QE"
      },
      "source": [
        "Then, import it, and start an instance of a monitor, specifying the GPU that it should monitor:"
      ]
    },
    {
      "cell_type": "code",
      "execution_count": null,
      "metadata": {
        "id": "0vWAn8Z7U0QE"
      },
      "outputs": [],
      "source": [
        "from zeus.monitor import ZeusMonitor\n",
        "\n",
        "monitor = ZeusMonitor(gpu_indices=[0])"
      ]
    },
    {
      "cell_type": "markdown",
      "metadata": {
        "id": "IvtKBbcKU0QE"
      },
      "source": [
        "When you want to measure GPU energy usage, you will:\n",
        "\n",
        "-   start a “monitoring window”\n",
        "-   do your GPU-intensive computation (e.g. call `model.fit`)\n",
        "-   stop the “monitoring window”\n",
        "\n",
        "and then you can get the time and total energy used by the GPU in the monitoring window."
      ]
    },
    {
      "cell_type": "markdown",
      "metadata": {
        "id": "v24wECROU0QE"
      },
      "source": [
        "Try it now - this will just continue fitting whatever `model` is currently in scope from previous cells:"
      ]
    },
    {
      "cell_type": "code",
      "execution_count": null,
      "metadata": {
        "id": "h1OvzXHFU0QE"
      },
      "outputs": [],
      "source": [
        "monitor.begin_window(\"test\")\n",
        "model.fit(Xtr_scale, ytr, epochs=5)\n",
        "measurement = monitor.end_window(\"test\")\n",
        "print(\"Measured time (s)  :\" , measurement.time)\n",
        "print(\"Measured energy (J):\" , measurement.total_energy)"
      ]
    },
    {
      "cell_type": "markdown",
      "metadata": {
        "id": "Ehe_2kQCU0QE"
      },
      "source": [
        "#### `TrainToAccuracy` callback\n",
        "\n",
        "Next, we need a way to train a model until we achieve our desired validation accuracy. We will [write a callback function](https://www.tensorflow.org/guide/keras/writing_your_own_callbacks) following these specifications:\n",
        "\n",
        "-   It will be called `TrainToAccuracy` and will accept two arguments: a `threshold` and a `patience` value.\n",
        "-   If the model’s validation accuracy is higher than the `threshold` for `patience` epochs in a row, stop training.\n",
        "-   In the `on_epoch_end` function, which will be called at the end of every epoch during training, you should get the current validation accuracy using `current_acc = logs.get(\"val_accuracy\")`. Then, set `self.model.stop_training = True` if the condition above is met.\n",
        "-   The default values of `threshold` and `patience` are given below, but other values may be passed as arguments at runtime.\n",
        "\n",
        "Then, when you call `model.fit()`, you will add the `TrainToAccuracy` callback as in\n",
        "\n",
        "    callbacks=[TrainToAccuracy(threshold=0.98, patience=3)]"
      ]
    },
    {
      "cell_type": "code",
      "execution_count": null,
      "metadata": {
        "id": "gYVS1-EKU0QE"
      },
      "outputs": [],
      "source": [
        "# TODO - write a callback function\n",
        "class TrainToAccuracy(callbacks.Callback):\n",
        "\n",
        "    def __init__(self, threshold=0.9, patience=5):\n",
        "        self.threshold = threshold  # the desired accuracy threshold\n",
        "        self.patience = patience # how many epochs to wait once hitting the threshold\n",
        "\n",
        "    def on_epoch_end(self, epoch, logs=None):\n",
        "        current_acc = logs.get(\"val_accuracy\")\n",
        "        # if conditions are met..\n",
        "        # self.model.stop_training = True\n"
      ]
    },
    {
      "cell_type": "markdown",
      "metadata": {
        "id": "j4hLqdCBU0QE"
      },
      "source": [
        "Try it! run the following cell to test your `TrainToAccuracy` callback. (This will just continue fitting whatever `model` is currently in scope.)"
      ]
    },
    {
      "cell_type": "code",
      "execution_count": null,
      "metadata": {
        "id": "ilOSDcy-U0QE"
      },
      "outputs": [],
      "source": [
        "model.fit(Xtr_scale, ytr, epochs=100, validation_split = 0.2, callbacks=[TrainToAccuracy(threshold=0.95, patience=3)])"
      ]
    },
    {
      "cell_type": "markdown",
      "metadata": {
        "id": "6EG7gv6fU0QF"
      },
      "source": [
        "Your model shouldn’t *really* train for 100 epochs - it should stop training as soon as 95% validation accuracy is achieved for 3 epochs in a row! (Your “test” is not graded, you may change the `threshold` and `patience` values in this “test” call to `model.fit` in order to check your work.)\n",
        "\n",
        "Note that since we are now using the validation set performance to *decide* when to stop training the model, we are no longer “allowed” to pass the test set as `validation_data`. The test set must never be used to make decisions during the model training process - only for evaluation of the final model. Instead, we specify that 20% of the training data should be held out as a validation set, and that is the validation accuracy that is used to determine when to stop training."
      ]
    },
    {
      "cell_type": "markdown",
      "metadata": {
        "id": "AtI1V5miU0QF"
      },
      "source": [
        "### See how TTA/ETA varies with learning rate, batch size"
      ]
    },
    {
      "cell_type": "markdown",
      "metadata": {
        "id": "nO602QxoU0QF"
      },
      "source": [
        "Now, you will repeat your model preparation and fitting code - with your new `TrainToAccuracy` callback - but in a loop. First, you will iterate over different learning rates.\n",
        "\n",
        "In each iteration of each loop, you will prepare a model (with the appropriate training hyperparameters) and train it until:\n",
        "\n",
        "-   either it has achieved **0.98 accuracy for 3 epoches in a row** on a 20% validation subset of the training data,\n",
        "-   or, it has trained for 500 epochs\n",
        "\n",
        "whichever comes FIRST.\n",
        "\n",
        "For each model, you will record:\n",
        "\n",
        "-   the training hyperparameters (learning rate, batch size)\n",
        "-   the number of epochs of training needed to achieve the target validation accuracy\n",
        "-   the accuracy on the *test* data (not the validation data!). After fitting the model, use `model.evaluate` and pass the scaled *test* data to get the test loss and test accuracy\n",
        "-   the GPU energy and time to train the model to the desired validation accuracy, as computed by a `zeus-ml` measurement window that starts just before `model.fit` and ends just after `model.fit`."
      ]
    },
    {
      "cell_type": "code",
      "execution_count": null,
      "metadata": {
        "id": "s7xxfrw7U0QF"
      },
      "outputs": [],
      "source": [
        "\n",
        "# TODO - iterate over learning rates and get TTA/ETA\n",
        "\n",
        "# default learning rate and batch size -\n",
        "lr = 0.001\n",
        "batch_size = 128\n",
        "\n",
        "metrics_vs_lr = []\n",
        "for lr in [0.0001, 0.001, 0.01, 0.1]:\n",
        "\n",
        "    # TODO - set up model, including appropriate optimizer hyperparameters\n",
        "\n",
        "    # start measurement\n",
        "    # if on GPU runtime\n",
        "    try:\n",
        "        monitor.begin_window(\"model_train\")\n",
        "    # if on GPU runtime, but last measurement window is still running\n",
        "    except ValueError:\n",
        "        _ = monitor.end_window(\"model_train\")\n",
        "        monitor.begin_window(\"model_train\")\n",
        "    # if on CPU runtime\n",
        "    except NameError:\n",
        "        print(\"Uh oh! You are not connected to a GPU runtime.\")\n",
        "        start_time = time.time()\n",
        "\n",
        "\n",
        "    # TODO - fit model on (scaled) training data\n",
        "    # until specified validation accuracy is achieved (don't use test data!)\n",
        "    # but stop after 500 epochs even if validation accuracy is not achieved\n",
        "\n",
        "    # end measurement\n",
        "    # if on GPU runtime\n",
        "    try:\n",
        "        measurement = monitor.end_window(\"model_train\")\n",
        "    # if on CPU runtime\n",
        "    except NameError:\n",
        "        total_time = time.time() - start_time\n",
        "\n",
        "    # TODO - evaluate model on (scaled) test data\n",
        "\n",
        "    # save results in a dictionary\n",
        "    # model_metrics = {\n",
        "    #    'batch_size': ...,\n",
        "    #    'learning_rate': ...,\n",
        "    #    'epochs': ...,\n",
        "    #    'test_accuracy': ...,\n",
        "    #    'total_energy': ..., # if on GPU runtime\n",
        "    #    'train_time': ...\n",
        "    # }\n",
        "\n",
        "    # TODO - append model_metrics dictionary to the metrics_vs_lr list"
      ]
    },
    {
      "cell_type": "markdown",
      "metadata": {
        "id": "JDLhzuvpU0QF"
      },
      "source": [
        "Next, you will visualize the results.\n",
        "\n",
        "Create a figure with four subplots. In each subplot, create a bar plot with learning rate on the horizontal axis and (1) Time to accuracy, (2) Energy to accuracy, (3) Test accuracy, (4) Epochs, on the vertical axis on each subplot, respectively. Use an appropriate vertical range for each subplot. Label all axes."
      ]
    },
    {
      "cell_type": "code",
      "execution_count": null,
      "metadata": {
        "id": "qMcvT5Z0U0QF"
      },
      "outputs": [],
      "source": [
        "# TODO - visualize effect of varying learning rate, when training to a target accuracy\n"
      ]
    },
    {
      "cell_type": "markdown",
      "metadata": {
        "id": "mmXdZleIU0QF"
      },
      "source": [
        "**Comment on the results**: Given that the model is trained to a target validation accuracy, what is the effect of the learning rate on the training process *in this example*?"
      ]
    },
    {
      "cell_type": "markdown",
      "metadata": {
        "id": "_GUjd4WFU0QF"
      },
      "source": [
        "Now, you will repeat, with a loop over different batch sizes -"
      ]
    },
    {
      "cell_type": "code",
      "execution_count": null,
      "metadata": {
        "id": "EGGTQEq1U0QF"
      },
      "outputs": [],
      "source": [
        "\n",
        "# TODO - iterate over batch size and get TTA/ETA\n",
        "\n",
        "# default learning rate and batch size -\n",
        "lr = 0.001\n",
        "batch_size = 128\n",
        "\n",
        "metrics_vs_bs = []\n",
        "for batch_size in [32,  128, 512, 2048, 8192]:\n",
        "\n",
        "    # TODO - set up model, including appropriate optimizer hyperparameters\n",
        "\n",
        "    # start measurement\n",
        "    # if on GPU runtime\n",
        "    try:\n",
        "        monitor.begin_window(\"model_train\")\n",
        "    # if on GPU runtime, but last measurement window is still running\n",
        "    except ValueError:\n",
        "        _ = monitor.end_window(\"model_train\")\n",
        "        monitor.begin_window(\"model_train\")\n",
        "    except NameError:\n",
        "        print(\"Uh oh! You are not connected to a GPU runtime.\")\n",
        "        start_time = time.time()\n",
        "\n",
        "\n",
        "    # TODO - fit model on (scaled) training data\n",
        "    # until specified validation accuracy is achieved (don't use test data!)\n",
        "    # but stop after 500 epochs even if validation accuracy is not achieved\n",
        "\n",
        "    # end measurement\n",
        "    # if on GPU runtime\n",
        "    try:\n",
        "        measurement = monitor.end_window(\"model_train\")\n",
        "    except NameError:\n",
        "        total_time = time.time() - start_time\n",
        "\n",
        "    # TODO - evaluate model on (scaled) test data\n",
        "\n",
        "    # save results in a dictionary\n",
        "    # model_metrics = {\n",
        "    #    'batch_size': ...,\n",
        "    #    'learning_rate': ...,\n",
        "    #    'epochs': ...,\n",
        "    #    'test_accuracy': ...,\n",
        "    #    'total_energy': ..., # if on GPU runtime\n",
        "    #    'train_time': ...\n",
        "    # }\n",
        "\n",
        "    # TODO - append model_metrics dictionary to the metrics_vs_bs list"
      ]
    },
    {
      "cell_type": "markdown",
      "metadata": {
        "id": "sMnz68YYU0QF"
      },
      "source": [
        "Next, you will visualize the results.\n",
        "\n",
        "Create a figure with four subplots. In each subplot, create a bar plot with batch size on the horizontal axis and (1) Time to accuracy, (2) Energy to accuracy, (3) Test accuracy, (4) Epochs, on the vertical axis on each subplot, respectively. Use an appropriate vertical range for each subplot. Label all axes."
      ]
    },
    {
      "cell_type": "code",
      "execution_count": null,
      "metadata": {
        "id": "wgJVL9S4U0QF"
      },
      "outputs": [],
      "source": [
        "# TODO - visualize effect of varying batch size, when training to a target accuracy\n"
      ]
    },
    {
      "cell_type": "markdown",
      "metadata": {
        "id": "mTNWQ_zoU0QF"
      },
      "source": [
        "**Comment on the results**: Given that the model is trained to a target validation accuracy, what is the effect of the batch size on the training process *in this example*? What do you observe about how time and energy *per epoch* and number of epochs required varies with batch size?"
      ]
    }
  ],
  "nbformat": 4,
  "nbformat_minor": 0,
  "metadata": {
    "accelerator": "GPU",
    "anaconda-cloud": {},
    "colab": {
      "provenance": []
    },
    "gpuClass": "standard",
    "kernelspec": {
      "name": "python3",
      "display_name": "Python 3",
      "language": "python"
    }
  }
}